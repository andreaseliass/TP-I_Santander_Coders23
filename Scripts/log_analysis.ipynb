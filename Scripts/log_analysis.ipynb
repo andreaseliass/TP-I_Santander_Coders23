{
 "cells": [
  {
   "cell_type": "markdown",
   "metadata": {},
   "source": [
    "# Projeto Final | Sistema para Edição de imagens e áudios"
   ]
  },
  {
   "cell_type": "markdown",
   "metadata": {},
   "source": [
    "<div style=\"background-color: #f2f2f2; text-align: center; padding: 10px;\">\n",
    "  <h3>Script para Análise dos arquivos de log</h3>\n",
    "</div>"
   ]
  },
  {
   "cell_type": "markdown",
   "metadata": {},
   "source": [
    "%------------------------------------------------------------------------------------------------------%<br>\n",
    "<br>\n",
    "``Autores:`` Andrea Elias, Anthony Heimlich, Éverton Donato, Julia Midori e Luana Kruger  <br>\n",
    "<br>\n",
    "``Instituição:`` ADA Tech<br>\n",
    "<br>\n",
    "``Projeto:`` Santander Coders 2023.2<br>\n",
    "<br>\n",
    "``Descrição:`` Este código implementa funções para analisar informações contidas nos arquivos de log<br>\n",
    "<br>\n",
    "``Repositório GitHub:`` https://github.com/luana-kruger/TP-I_Santander_Coders23  <br>\n",
    "<br>\n",
    "\n",
    "%------------------------------------------------------------------------------------------------------%"
   ]
  },
  {
   "cell_type": "markdown",
   "metadata": {},
   "source": [
    "## Carregar bibliotecas"
   ]
  },
  {
   "cell_type": "code",
   "execution_count": 228,
   "metadata": {},
   "outputs": [],
   "source": [
    "import pandas as pd\n",
    "import matplotlib.pyplot as plt\n",
    "import numpy as np\n",
    "import datetime as dt"
   ]
  },
  {
   "cell_type": "markdown",
   "metadata": {},
   "source": [
    "## Carregar Funções"
   ]
  },
  {
   "cell_type": "markdown",
   "metadata": {},
   "source": [
    "### Carregar arquivo de log"
   ]
  },
  {
   "cell_type": "code",
   "execution_count": 98,
   "metadata": {},
   "outputs": [],
   "source": [
    "def carregar_arquivo_log(path):\n",
    "    return pd.read_csv(path)"
   ]
  },
  {
   "cell_type": "markdown",
   "metadata": {},
   "source": [
    "### Tempo de processamento médio por tipo (imagem ou áudio)"
   ]
  },
  {
   "cell_type": "code",
   "execution_count": 7,
   "metadata": {},
   "outputs": [],
   "source": [
    "def tempo_processamento_medio_por_tipo(df):\n",
    "    return df.groupby('Tipo de Processamento')['Tempo de Processamento'].mean()"
   ]
  },
  {
   "cell_type": "markdown",
   "metadata": {},
   "source": [
    "### Distribuição do tempo de processamento"
   ]
  },
  {
   "cell_type": "code",
   "execution_count": 60,
   "metadata": {},
   "outputs": [],
   "source": [
    "def distribuicao_tempo_processamento(df):\n",
    "    col = 'Tempo de Processamento'\n",
    "    bins=20\n",
    "    weight = np.ones(len(df[col])) /len(df[col])\n",
    "\n",
    "    plt.hist(df[col], bins=bins, weights=weight, edgecolor='black')\n",
    "    \n",
    "    plt.gca().set_yticklabels(['{:.1f}%'.format(x*100).replace('.', ',') for x in plt.gca().get_yticks()])\n",
    "    \n",
    "    plt.xlabel('Tempo de Processamento (ms)')\n",
    "    plt.ylabel('Frequência (%)')\n",
    "    plt.title('Distribuição do Tempo de Processamento')\n",
    "    plt.show()"
   ]
  },
  {
   "cell_type": "markdown",
   "metadata": {},
   "source": [
    "### Arquivos com tempo de processamento abaixo da média"
   ]
  },
  {
   "cell_type": "code",
   "execution_count": 15,
   "metadata": {},
   "outputs": [],
   "source": [
    "def arquivos_abaixo_da_media(df):\n",
    "    media = df['Tempo de Processamento'].mean()\n",
    "    return df[df['Tempo de Processamento'] < media]"
   ]
  },
  {
   "cell_type": "markdown",
   "metadata": {},
   "source": [
    "### Análise de correlação"
   ]
  },
  {
   "cell_type": "code",
   "execution_count": 21,
   "metadata": {},
   "outputs": [],
   "source": [
    "def analise_correlacao(df):\n",
    "    return df[['Tamanho do Arquivo', 'Tempo de Processamento']].corr()"
   ]
  },
  {
   "cell_type": "markdown",
   "metadata": {},
   "source": [
    "### Análise de frequência por tipo de processamento"
   ]
  },
  {
   "cell_type": "code",
   "execution_count": 22,
   "metadata": {},
   "outputs": [],
   "source": [
    "def analise_frequencia_tipo_processamento(df):\n",
    "    return df['Tipo de Processamento'].value_counts()"
   ]
  },
  {
   "cell_type": "markdown",
   "metadata": {},
   "source": [
    "### Análise do resultado por tipo de processamento"
   ]
  },
  {
   "cell_type": "code",
   "execution_count": 202,
   "metadata": {},
   "outputs": [],
   "source": [
    "def analise_resultado_por_tipo(df):\n",
    "    return df.groupby('Tipo de Processamento')['Resultado do Processamento'].value_counts()"
   ]
  },
  {
   "cell_type": "markdown",
   "metadata": {},
   "source": [
    "### Análise de erro por tipo de processamento"
   ]
  },
  {
   "cell_type": "code",
   "execution_count": 221,
   "metadata": {},
   "outputs": [],
   "source": [
    "def analise_erro_por_tipo(df):\n",
    "    col = 'Tipo de Processamento'\n",
    "    col2 = 'Resultado do Processamento'\n",
    "    bar_width = 0.35\n",
    "\n",
    "    casos_erro = df[df[col2] == \"Erro\"]\n",
    "\n",
    "    index = np.arange(len(pd.unique(casos_erro[col])))\n",
    "\n",
    "    color = ['tab:red']\n",
    "\n",
    "    fig, ax = plt.subplots()\n",
    "\n",
    "    erro = ax.bar(index, casos_erro[col].value_counts(), bar_width,color=color, edgecolor='black')\n",
    "\n",
    "    ax.set_xlabel(col)\n",
    "    ax.set_ylabel('Qtd de erros')\n",
    "    ax.set_title('Erros por tipo de processamento')\n",
    "    ax.set_xticks(index)\n",
    "    ax.set_xticklabels(pd.unique(casos_erro[col]))\n",
    "\n",
    "    plt.show()"
   ]
  },
  {
   "cell_type": "code",
   "execution_count": 277,
   "metadata": {},
   "outputs": [],
   "source": [
    "def analise_erro_por_hora(df, data=dt.date.today()):\n",
    "    data = dt.datetime.strptime(data, \"%Y-%m-%d\").date()\n",
    "    colresultado = 'Resultado do Processamento'\n",
    "    coldatahora = 'Data e Hora'\n",
    "    coldata = 'Data'\n",
    "    colhora = 'Hora'\n",
    "    bar_width = 0.35\n",
    "    df[coldata] = pd.to_datetime(df[coldatahora]).dt.date\n",
    "    df[colhora] = pd.to_datetime(df[coldatahora]).dt.hour\n",
    "\n",
    "    casos_erro = df[(df[colresultado] == \"Erro\") & (df[coldata] == data)]\n",
    "    return casos_erro[colhora].value_counts()"
   ]
  },
  {
   "cell_type": "markdown",
   "metadata": {},
   "source": [
    "## Exemplo de uso"
   ]
  },
  {
   "cell_type": "code",
   "execution_count": 99,
   "metadata": {},
   "outputs": [],
   "source": [
    "path_image = '..\\logs\\log_image.csv'\n",
    "path_audio = '..\\logs\\log_audio.csv'\n",
    "\n",
    "# Carregar arquivo de log de imagem\n",
    "df_imagem = carregar_arquivo_log(path_image)\n",
    "\n",
    "# Carregar arquivo de log de áudio\n",
    "# df_audio = carregar_arquivo_log(path_audio)"
   ]
  },
  {
   "cell_type": "code",
   "execution_count": 101,
   "metadata": {},
   "outputs": [
    {
     "data": {
      "text/html": [
       "<div>\n",
       "<style scoped>\n",
       "    .dataframe tbody tr th:only-of-type {\n",
       "        vertical-align: middle;\n",
       "    }\n",
       "\n",
       "    .dataframe tbody tr th {\n",
       "        vertical-align: top;\n",
       "    }\n",
       "\n",
       "    .dataframe thead th {\n",
       "        text-align: right;\n",
       "    }\n",
       "</style>\n",
       "<table border=\"1\" class=\"dataframe\">\n",
       "  <thead>\n",
       "    <tr style=\"text-align: right;\">\n",
       "      <th></th>\n",
       "      <th>Data e Hora</th>\n",
       "      <th>Tipo de Processamento</th>\n",
       "      <th>Tempo de Processamento</th>\n",
       "      <th>Nome do Arquivo</th>\n",
       "      <th>Tamanho do Arquivo</th>\n",
       "      <th>Resultado do Processamento</th>\n",
       "      <th>Mensagem de Erro</th>\n",
       "    </tr>\n",
       "  </thead>\n",
       "  <tbody>\n",
       "    <tr>\n",
       "      <th>0</th>\n",
       "      <td>2024-03-13 20:08:18</td>\n",
       "      <td>Carregamento de Imagem</td>\n",
       "      <td>29.003</td>\n",
       "      <td>10043234166_e6dd915111_n.jpg</td>\n",
       "      <td>26.068359</td>\n",
       "      <td>Sucesso</td>\n",
       "      <td>NaN</td>\n",
       "    </tr>\n",
       "    <tr>\n",
       "      <th>1</th>\n",
       "      <td>2024-03-13 20:08:18</td>\n",
       "      <td>Deslocamento de Imagem</td>\n",
       "      <td>NaN</td>\n",
       "      <td>10043234166_e6dd915111_n.jpg</td>\n",
       "      <td>26.068359</td>\n",
       "      <td>Erro</td>\n",
       "      <td>bad operand type for unary -: 'str'</td>\n",
       "    </tr>\n",
       "    <tr>\n",
       "      <th>2</th>\n",
       "      <td>2024-03-13 20:08:18</td>\n",
       "      <td>Carregamento de Imagem</td>\n",
       "      <td>3.000</td>\n",
       "      <td>10200780773_c6051a7d71_n.jpg</td>\n",
       "      <td>22.774414</td>\n",
       "      <td>Sucesso</td>\n",
       "      <td>NaN</td>\n",
       "    </tr>\n",
       "    <tr>\n",
       "      <th>3</th>\n",
       "      <td>2024-03-13 20:08:18</td>\n",
       "      <td>Deslocamento de Imagem</td>\n",
       "      <td>36.005</td>\n",
       "      <td>10200780773_c6051a7d71_n.jpg</td>\n",
       "      <td>22.774414</td>\n",
       "      <td>Sucesso</td>\n",
       "      <td>NaN</td>\n",
       "    </tr>\n",
       "    <tr>\n",
       "      <th>4</th>\n",
       "      <td>2024-03-13 20:08:18</td>\n",
       "      <td>Carregamento de Imagem</td>\n",
       "      <td>2.991</td>\n",
       "      <td>10294487385_92a0676c7d_m.jpg</td>\n",
       "      <td>21.147461</td>\n",
       "      <td>Sucesso</td>\n",
       "      <td>NaN</td>\n",
       "    </tr>\n",
       "    <tr>\n",
       "      <th>...</th>\n",
       "      <td>...</td>\n",
       "      <td>...</td>\n",
       "      <td>...</td>\n",
       "      <td>...</td>\n",
       "      <td>...</td>\n",
       "      <td>...</td>\n",
       "      <td>...</td>\n",
       "    </tr>\n",
       "    <tr>\n",
       "      <th>195</th>\n",
       "      <td>2024-03-13 20:08:23</td>\n",
       "      <td>Rota��o de Imagem</td>\n",
       "      <td>65.006</td>\n",
       "      <td>14202166370_e989588332.jpg</td>\n",
       "      <td>32.380859</td>\n",
       "      <td>Sucesso</td>\n",
       "      <td>NaN</td>\n",
       "    </tr>\n",
       "    <tr>\n",
       "      <th>196</th>\n",
       "      <td>2024-03-13 20:08:23</td>\n",
       "      <td>Carregamento de Imagem</td>\n",
       "      <td>5.000</td>\n",
       "      <td>14211880544_5d1f9d5aa8_n.jpg</td>\n",
       "      <td>19.825195</td>\n",
       "      <td>Sucesso</td>\n",
       "      <td>NaN</td>\n",
       "    </tr>\n",
       "    <tr>\n",
       "      <th>197</th>\n",
       "      <td>2024-03-13 20:08:23</td>\n",
       "      <td>Zoom de Imagem</td>\n",
       "      <td>84.002</td>\n",
       "      <td>14211880544_5d1f9d5aa8_n.jpg</td>\n",
       "      <td>19.825195</td>\n",
       "      <td>Sucesso</td>\n",
       "      <td>NaN</td>\n",
       "    </tr>\n",
       "    <tr>\n",
       "      <th>198</th>\n",
       "      <td>2024-03-13 20:08:23</td>\n",
       "      <td>Carregamento de Imagem</td>\n",
       "      <td>5.000</td>\n",
       "      <td>142390525_5d81a3659d_m.jpg</td>\n",
       "      <td>30.757812</td>\n",
       "      <td>Sucesso</td>\n",
       "      <td>NaN</td>\n",
       "    </tr>\n",
       "    <tr>\n",
       "      <th>199</th>\n",
       "      <td>2024-03-13 20:08:23</td>\n",
       "      <td>Invers�o Horizontal</td>\n",
       "      <td>0.000</td>\n",
       "      <td>142390525_5d81a3659d_m.jpg</td>\n",
       "      <td>30.757812</td>\n",
       "      <td>Sucesso</td>\n",
       "      <td>NaN</td>\n",
       "    </tr>\n",
       "  </tbody>\n",
       "</table>\n",
       "<p>200 rows × 7 columns</p>\n",
       "</div>"
      ],
      "text/plain": [
       "             Data e Hora   Tipo de Processamento  Tempo de Processamento  \\\n",
       "0    2024-03-13 20:08:18  Carregamento de Imagem                  29.003   \n",
       "1    2024-03-13 20:08:18  Deslocamento de Imagem                     NaN   \n",
       "2    2024-03-13 20:08:18  Carregamento de Imagem                   3.000   \n",
       "3    2024-03-13 20:08:18  Deslocamento de Imagem                  36.005   \n",
       "4    2024-03-13 20:08:18  Carregamento de Imagem                   2.991   \n",
       "..                   ...                     ...                     ...   \n",
       "195  2024-03-13 20:08:23       Rota��o de Imagem                  65.006   \n",
       "196  2024-03-13 20:08:23  Carregamento de Imagem                   5.000   \n",
       "197  2024-03-13 20:08:23          Zoom de Imagem                  84.002   \n",
       "198  2024-03-13 20:08:23  Carregamento de Imagem                   5.000   \n",
       "199  2024-03-13 20:08:23     Invers�o Horizontal                   0.000   \n",
       "\n",
       "                  Nome do Arquivo  Tamanho do Arquivo  \\\n",
       "0    10043234166_e6dd915111_n.jpg           26.068359   \n",
       "1    10043234166_e6dd915111_n.jpg           26.068359   \n",
       "2    10200780773_c6051a7d71_n.jpg           22.774414   \n",
       "3    10200780773_c6051a7d71_n.jpg           22.774414   \n",
       "4    10294487385_92a0676c7d_m.jpg           21.147461   \n",
       "..                            ...                 ...   \n",
       "195    14202166370_e989588332.jpg           32.380859   \n",
       "196  14211880544_5d1f9d5aa8_n.jpg           19.825195   \n",
       "197  14211880544_5d1f9d5aa8_n.jpg           19.825195   \n",
       "198    142390525_5d81a3659d_m.jpg           30.757812   \n",
       "199    142390525_5d81a3659d_m.jpg           30.757812   \n",
       "\n",
       "    Resultado do Processamento                     Mensagem de Erro  \n",
       "0                      Sucesso                                  NaN  \n",
       "1                         Erro  bad operand type for unary -: 'str'  \n",
       "2                      Sucesso                                  NaN  \n",
       "3                      Sucesso                                  NaN  \n",
       "4                      Sucesso                                  NaN  \n",
       "..                         ...                                  ...  \n",
       "195                    Sucesso                                  NaN  \n",
       "196                    Sucesso                                  NaN  \n",
       "197                    Sucesso                                  NaN  \n",
       "198                    Sucesso                                  NaN  \n",
       "199                    Sucesso                                  NaN  \n",
       "\n",
       "[200 rows x 7 columns]"
      ]
     },
     "execution_count": 101,
     "metadata": {},
     "output_type": "execute_result"
    }
   ],
   "source": [
    "df_imagem.head(200)"
   ]
  },
  {
   "cell_type": "markdown",
   "metadata": {},
   "source": [
    "#### Tempo de processamento médio por tipo - em milissegundos"
   ]
  },
  {
   "cell_type": "code",
   "execution_count": 12,
   "metadata": {},
   "outputs": [
    {
     "data": {
      "text/plain": [
       "Tipo de Processamento\n",
       "Carregamento de Imagem     1.831226\n",
       "Deslocamento de Imagem    53.300981\n",
       "Inversão Horizontal        0.000000\n",
       "Rotação de Imagem         25.678716\n",
       "Zoom de Imagem            61.354000\n",
       "Name: Tempo de Processamento, dtype: float64"
      ]
     },
     "execution_count": 12,
     "metadata": {},
     "output_type": "execute_result"
    }
   ],
   "source": [
    "process_mean = tempo_processamento_medio_por_tipo(df_imagem)\n",
    "process_mean"
   ]
  },
  {
   "cell_type": "markdown",
   "metadata": {},
   "source": [
    "#### Distribuição do tempo de processamento"
   ]
  },
  {
   "cell_type": "code",
   "execution_count": 51,
   "metadata": {},
   "outputs": [
    {
     "name": "stderr",
     "output_type": "stream",
     "text": [
      "C:\\Users\\luana\\AppData\\Local\\Temp\\ipykernel_13952\\2826430714.py:9: UserWarning: FixedFormatter should only be used together with FixedLocator\n",
      "  plt.gca().set_yticklabels(['{:.1f}%'.format(x*100).replace('.', ',') for x in plt.gca().get_yticks()])\n"
     ]
    },
    {
     "data": {
      "image/png": "[encoded data removed]",
      "text/plain": [
       "<Figure size 640x480 with 1 Axes>"
      ]
     },
     "metadata": {},
     "output_type": "display_data"
    }
   ],
   "source": [
    "distribuicao_tempo_processamento(df_imagem)"
   ]
  },
  {
   "cell_type": "markdown",
   "metadata": {},
   "source": [
    "#### Arquivos com tempo de processamento abaixo da média"
   ]
  },
  {
   "cell_type": "code",
   "execution_count": 18,
   "metadata": {},
   "outputs": [
    {
     "name": "stdout",
     "output_type": "stream",
     "text": [
      "Tempo médio de processamento em milissegundos:  18.087248701673396\n"
     ]
    }
   ],
   "source": [
    "media = df_imagem['Tempo de Processamento'].mean()\n",
    "print(\"Tempo médio de processamento em milissegundos: \", media)"
   ]
  },
  {
   "cell_type": "code",
   "execution_count": 105,
   "metadata": {},
   "outputs": [
    {
     "data": {
      "text/html": [
       "<div>\n",
       "<style scoped>\n",
       "    .dataframe tbody tr th:only-of-type {\n",
       "        vertical-align: middle;\n",
       "    }\n",
       "\n",
       "    .dataframe tbody tr th {\n",
       "        vertical-align: top;\n",
       "    }\n",
       "\n",
       "    .dataframe thead th {\n",
       "        text-align: right;\n",
       "    }\n",
       "</style>\n",
       "<table border=\"1\" class=\"dataframe\">\n",
       "  <thead>\n",
       "    <tr style=\"text-align: right;\">\n",
       "      <th></th>\n",
       "      <th>Data e Hora</th>\n",
       "      <th>Tipo de Processamento</th>\n",
       "      <th>Tempo de Processamento</th>\n",
       "      <th>Nome do Arquivo</th>\n",
       "      <th>Tamanho do Arquivo</th>\n",
       "      <th>Resultado do Processamento</th>\n",
       "      <th>Mensagem de Erro</th>\n",
       "    </tr>\n",
       "  </thead>\n",
       "  <tbody>\n",
       "    <tr>\n",
       "      <th>0</th>\n",
       "      <td>2024-03-13 20:08:18</td>\n",
       "      <td>Carregamento de Imagem</td>\n",
       "      <td>29.003</td>\n",
       "      <td>10043234166_e6dd915111_n.jpg</td>\n",
       "      <td>26.068359</td>\n",
       "      <td>Sucesso</td>\n",
       "      <td>NaN</td>\n",
       "    </tr>\n",
       "    <tr>\n",
       "      <th>2</th>\n",
       "      <td>2024-03-13 20:08:18</td>\n",
       "      <td>Carregamento de Imagem</td>\n",
       "      <td>3.000</td>\n",
       "      <td>10200780773_c6051a7d71_n.jpg</td>\n",
       "      <td>22.774414</td>\n",
       "      <td>Sucesso</td>\n",
       "      <td>NaN</td>\n",
       "    </tr>\n",
       "    <tr>\n",
       "      <th>4</th>\n",
       "      <td>2024-03-13 20:08:18</td>\n",
       "      <td>Carregamento de Imagem</td>\n",
       "      <td>2.991</td>\n",
       "      <td>10294487385_92a0676c7d_m.jpg</td>\n",
       "      <td>21.147461</td>\n",
       "      <td>Sucesso</td>\n",
       "      <td>NaN</td>\n",
       "    </tr>\n",
       "    <tr>\n",
       "      <th>5</th>\n",
       "      <td>2024-03-13 20:08:18</td>\n",
       "      <td>Rota��o de Imagem</td>\n",
       "      <td>18.996</td>\n",
       "      <td>10294487385_92a0676c7d_m.jpg</td>\n",
       "      <td>21.147461</td>\n",
       "      <td>Sucesso</td>\n",
       "      <td>NaN</td>\n",
       "    </tr>\n",
       "    <tr>\n",
       "      <th>6</th>\n",
       "      <td>2024-03-13 20:08:18</td>\n",
       "      <td>Carregamento de Imagem</td>\n",
       "      <td>3.997</td>\n",
       "      <td>10437652486_aa86c14985.jpg</td>\n",
       "      <td>130.642578</td>\n",
       "      <td>Sucesso</td>\n",
       "      <td>NaN</td>\n",
       "    </tr>\n",
       "    <tr>\n",
       "      <th>...</th>\n",
       "      <td>...</td>\n",
       "      <td>...</td>\n",
       "      <td>...</td>\n",
       "      <td>...</td>\n",
       "      <td>...</td>\n",
       "      <td>...</td>\n",
       "      <td>...</td>\n",
       "    </tr>\n",
       "    <tr>\n",
       "      <th>1788</th>\n",
       "      <td>2024-03-13 20:09:09</td>\n",
       "      <td>Carregamento de Imagem</td>\n",
       "      <td>4.007</td>\n",
       "      <td>9853885425_4a82356f1d_m.jpg</td>\n",
       "      <td>17.243164</td>\n",
       "      <td>Sucesso</td>\n",
       "      <td>NaN</td>\n",
       "    </tr>\n",
       "    <tr>\n",
       "      <th>1790</th>\n",
       "      <td>2024-03-13 20:09:09</td>\n",
       "      <td>Carregamento de Imagem</td>\n",
       "      <td>4.999</td>\n",
       "      <td>98992760_53ed1d26a9.jpg</td>\n",
       "      <td>87.693359</td>\n",
       "      <td>Sucesso</td>\n",
       "      <td>NaN</td>\n",
       "    </tr>\n",
       "    <tr>\n",
       "      <th>1792</th>\n",
       "      <td>2024-03-13 20:09:09</td>\n",
       "      <td>Carregamento de Imagem</td>\n",
       "      <td>6.009</td>\n",
       "      <td>9939430464_5f5861ebab.jpg</td>\n",
       "      <td>39.317383</td>\n",
       "      <td>Sucesso</td>\n",
       "      <td>NaN</td>\n",
       "    </tr>\n",
       "    <tr>\n",
       "      <th>1794</th>\n",
       "      <td>2024-03-13 20:09:09</td>\n",
       "      <td>Carregamento de Imagem</td>\n",
       "      <td>3.967</td>\n",
       "      <td>9965757055_ff01b5ee6f_n.jpg</td>\n",
       "      <td>41.551758</td>\n",
       "      <td>Sucesso</td>\n",
       "      <td>NaN</td>\n",
       "    </tr>\n",
       "    <tr>\n",
       "      <th>1795</th>\n",
       "      <td>2024-03-13 20:09:09</td>\n",
       "      <td>Rota��o de Imagem</td>\n",
       "      <td>27.993</td>\n",
       "      <td>9965757055_ff01b5ee6f_n.jpg</td>\n",
       "      <td>41.551758</td>\n",
       "      <td>Sucesso</td>\n",
       "      <td>NaN</td>\n",
       "    </tr>\n",
       "  </tbody>\n",
       "</table>\n",
       "<p>1270 rows × 7 columns</p>\n",
       "</div>"
      ],
      "text/plain": [
       "              Data e Hora   Tipo de Processamento  Tempo de Processamento  \\\n",
       "0     2024-03-13 20:08:18  Carregamento de Imagem                  29.003   \n",
       "2     2024-03-13 20:08:18  Carregamento de Imagem                   3.000   \n",
       "4     2024-03-13 20:08:18  Carregamento de Imagem                   2.991   \n",
       "5     2024-03-13 20:08:18       Rota��o de Imagem                  18.996   \n",
       "6     2024-03-13 20:08:18  Carregamento de Imagem                   3.997   \n",
       "...                   ...                     ...                     ...   \n",
       "1788  2024-03-13 20:09:09  Carregamento de Imagem                   4.007   \n",
       "1790  2024-03-13 20:09:09  Carregamento de Imagem                   4.999   \n",
       "1792  2024-03-13 20:09:09  Carregamento de Imagem                   6.009   \n",
       "1794  2024-03-13 20:09:09  Carregamento de Imagem                   3.967   \n",
       "1795  2024-03-13 20:09:09       Rota��o de Imagem                  27.993   \n",
       "\n",
       "                   Nome do Arquivo  Tamanho do Arquivo  \\\n",
       "0     10043234166_e6dd915111_n.jpg           26.068359   \n",
       "2     10200780773_c6051a7d71_n.jpg           22.774414   \n",
       "4     10294487385_92a0676c7d_m.jpg           21.147461   \n",
       "5     10294487385_92a0676c7d_m.jpg           21.147461   \n",
       "6       10437652486_aa86c14985.jpg          130.642578   \n",
       "...                            ...                 ...   \n",
       "1788   9853885425_4a82356f1d_m.jpg           17.243164   \n",
       "1790       98992760_53ed1d26a9.jpg           87.693359   \n",
       "1792     9939430464_5f5861ebab.jpg           39.317383   \n",
       "1794   9965757055_ff01b5ee6f_n.jpg           41.551758   \n",
       "1795   9965757055_ff01b5ee6f_n.jpg           41.551758   \n",
       "\n",
       "     Resultado do Processamento Mensagem de Erro  \n",
       "0                       Sucesso              NaN  \n",
       "2                       Sucesso              NaN  \n",
       "4                       Sucesso              NaN  \n",
       "5                       Sucesso              NaN  \n",
       "6                       Sucesso              NaN  \n",
       "...                         ...              ...  \n",
       "1788                    Sucesso              NaN  \n",
       "1790                    Sucesso              NaN  \n",
       "1792                    Sucesso              NaN  \n",
       "1794                    Sucesso              NaN  \n",
       "1795                    Sucesso              NaN  \n",
       "\n",
       "[1270 rows x 7 columns]"
      ]
     },
     "execution_count": 105,
     "metadata": {},
     "output_type": "execute_result"
    }
   ],
   "source": [
    "arquivos_abaixo_da_media(df_imagem)"
   ]
  },
  {
   "cell_type": "markdown",
   "metadata": {},
   "source": [
    "#### Comparação de desempenho entre tipos de processamento"
   ]
  },
  {
   "cell_type": "code",
   "execution_count": 13,
   "metadata": {},
   "outputs": [
    {
     "data": {
      "text/plain": [
       "Tipo de Processamento\n",
       "Inversão Horizontal        0.000000\n",
       "Carregamento de Imagem     1.831226\n",
       "Rotação de Imagem         25.678716\n",
       "Deslocamento de Imagem    53.300981\n",
       "Zoom de Imagem            61.354000\n",
       "Name: Tempo de Processamento, dtype: float64"
      ]
     },
     "execution_count": 13,
     "metadata": {},
     "output_type": "execute_result"
    }
   ],
   "source": [
    "process_mean.sort_values()"
   ]
  },
  {
   "cell_type": "markdown",
   "metadata": {},
   "source": [
    "#### Análise de correlação entre tamanho do arquivo e tempo de processamento "
   ]
  },
  {
   "cell_type": "code",
   "execution_count": 25,
   "metadata": {},
   "outputs": [
    {
     "data": {
      "text/html": [
       "<div>\n",
       "<style scoped>\n",
       "    .dataframe tbody tr th:only-of-type {\n",
       "        vertical-align: middle;\n",
       "    }\n",
       "\n",
       "    .dataframe tbody tr th {\n",
       "        vertical-align: top;\n",
       "    }\n",
       "\n",
       "    .dataframe thead th {\n",
       "        text-align: right;\n",
       "    }\n",
       "</style>\n",
       "<table border=\"1\" class=\"dataframe\">\n",
       "  <thead>\n",
       "    <tr style=\"text-align: right;\">\n",
       "      <th></th>\n",
       "      <th>Tamanho do Arquivo</th>\n",
       "      <th>Tempo de Processamento</th>\n",
       "    </tr>\n",
       "  </thead>\n",
       "  <tbody>\n",
       "    <tr>\n",
       "      <th>Tamanho do Arquivo</th>\n",
       "      <td>1.000000</td>\n",
       "      <td>0.242122</td>\n",
       "    </tr>\n",
       "    <tr>\n",
       "      <th>Tempo de Processamento</th>\n",
       "      <td>0.242122</td>\n",
       "      <td>1.000000</td>\n",
       "    </tr>\n",
       "  </tbody>\n",
       "</table>\n",
       "</div>"
      ],
      "text/plain": [
       "                        Tamanho do Arquivo  Tempo de Processamento\n",
       "Tamanho do Arquivo                1.000000                0.242122\n",
       "Tempo de Processamento            0.242122                1.000000"
      ]
     },
     "execution_count": 25,
     "metadata": {},
     "output_type": "execute_result"
    }
   ],
   "source": [
    "analise_correlacao(df_imagem)"
   ]
  },
  {
   "cell_type": "markdown",
   "metadata": {},
   "source": [
    "#### Análise de frequência por tipo de processamento "
   ]
  },
  {
   "cell_type": "code",
   "execution_count": 24,
   "metadata": {},
   "outputs": [
    {
     "data": {
      "text/plain": [
       "Carregamento de Imagem    898\n",
       "Rotação de Imagem         242\n",
       "Deslocamento de Imagem    236\n",
       "Zoom de Imagem            226\n",
       "Inversão Horizontal       194\n",
       "Name: Tipo de Processamento, dtype: int64"
      ]
     },
     "execution_count": 24,
     "metadata": {},
     "output_type": "execute_result"
    }
   ],
   "source": [
    "analise_frequencia_tipo_processamento(df_imagem)"
   ]
  },
  {
   "cell_type": "markdown",
   "metadata": {},
   "source": [
    "#### Análise de resultado por tipo de processamento"
   ]
  },
  {
   "cell_type": "code",
   "execution_count": 203,
   "metadata": {},
   "outputs": [
    {
     "data": {
      "text/plain": [
       "Tipo de Processamento   Resultado do Processamento\n",
       "Carregamento de Imagem  Sucesso                       898\n",
       "Deslocamento de Imagem  Sucesso                       196\n",
       "                        Erro                           24\n",
       "Invers�o Horizontal     Sucesso                       223\n",
       "Rota��o de Imagem       Sucesso                       196\n",
       "                        Erro                           23\n",
       "Zoom de Imagem          Sucesso                       205\n",
       "                        Erro                           31\n",
       "Name: Resultado do Processamento, dtype: int64"
      ]
     },
     "execution_count": 203,
     "metadata": {},
     "output_type": "execute_result"
    }
   ],
   "source": [
    "analise_resultado_por_tipo(df_imagem)"
   ]
  },
  {
   "cell_type": "markdown",
   "metadata": {},
   "source": [
    "#### Análise de errospor tipo de processamento"
   ]
  },
  {
   "cell_type": "code",
   "execution_count": 222,
   "metadata": {},
   "outputs": [
    {
     "data": {
      "image/png": "[encoded data removed]",
      "text/plain": [
       "<Figure size 640x480 with 1 Axes>"
      ]
     },
     "metadata": {},
     "output_type": "display_data"
    }
   ],
   "source": [
    "analise_erro_por_tipo(df_imagem)"
   ]
  },
  {
   "cell_type": "code",
   "execution_count": 279,
   "metadata": {},
   "outputs": [
    {
     "data": {
      "text/plain": [
       "20    78\n",
       "Name: Hora, dtype: int64"
      ]
     },
     "execution_count": 279,
     "metadata": {},
     "output_type": "execute_result"
    }
   ],
   "source": [
    "analise_erro_por_hora(df_imagem,\"2024-03-13\")"
   ]
  }
 ],
 "metadata": {
  "kernelspec": {
   "display_name": "Python 3 (ipykernel)",
   "language": "python",
   "name": "python3"
  },
  "language_info": {
   "codemirror_mode": {
    "name": "ipython",
    "version": 3
   },
   "file_extension": ".py",
   "mimetype": "text/x-python",
   "name": "python",
   "nbconvert_exporter": "python",
   "pygments_lexer": "ipython3",
   "version": "3.9.13"
  }
 },
 "nbformat": 4,
 "nbformat_minor": 2
}
